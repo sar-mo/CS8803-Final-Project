{
  "cells": [
    {
      "cell_type": "markdown",
      "source": [
        "# GNN Unlearning Notebook"
      ],
      "metadata": {
        "id": "edWGReEof-_0"
      }
    },
    {
      "cell_type": "markdown",
      "source": [
        "## nvidia-smi"
      ],
      "metadata": {
        "id": "gdsrmxjBgDiD"
      }
    },
    {
      "cell_type": "code",
      "execution_count": 1,
      "metadata": {
        "colab": {
          "base_uri": "https://localhost:8080/"
        },
        "id": "bdo11DaSlvX9",
        "outputId": "f5af75bd-3627-4551-875b-51fba5c401e6"
      },
      "outputs": [
        {
          "output_type": "stream",
          "name": "stdout",
          "text": [
            "Wed Nov 29 05:17:20 2023       \n",
            "+-----------------------------------------------------------------------------+\n",
            "| NVIDIA-SMI 525.105.17   Driver Version: 525.105.17   CUDA Version: 12.0     |\n",
            "|-------------------------------+----------------------+----------------------+\n",
            "| GPU  Name        Persistence-M| Bus-Id        Disp.A | Volatile Uncorr. ECC |\n",
            "| Fan  Temp  Perf  Pwr:Usage/Cap|         Memory-Usage | GPU-Util  Compute M. |\n",
            "|                               |                      |               MIG M. |\n",
            "|===============================+======================+======================|\n",
            "|   0  Tesla T4            Off  | 00000000:00:04.0 Off |                    0 |\n",
            "| N/A   64C    P8    10W /  70W |      0MiB / 15360MiB |      0%      Default |\n",
            "|                               |                      |                  N/A |\n",
            "+-------------------------------+----------------------+----------------------+\n",
            "                                                                               \n",
            "+-----------------------------------------------------------------------------+\n",
            "| Processes:                                                                  |\n",
            "|  GPU   GI   CI        PID   Type   Process name                  GPU Memory |\n",
            "|        ID   ID                                                   Usage      |\n",
            "|=============================================================================|\n",
            "|  No running processes found                                                 |\n",
            "+-----------------------------------------------------------------------------+\n"
          ]
        }
      ],
      "source": [
        "!nvidia-smi"
      ]
    },
    {
      "cell_type": "markdown",
      "source": [
        "## Setup & Install Dependencies"
      ],
      "metadata": {
        "id": "oQ1whSZIgGia"
      }
    },
    {
      "cell_type": "code",
      "execution_count": null,
      "metadata": {
        "id": "SXD05fGpUdOc"
      },
      "outputs": [],
      "source": [
        "#@title Clone the inference repo\n",
        "!git clone https://github.com/g-abhi/GNNDelete.git\n",
        "\n",
        "%cd GNNDelete"
      ]
    },
    {
      "cell_type": "code",
      "execution_count": null,
      "metadata": {
        "id": "fb-fOirJUdrh"
      },
      "outputs": [],
      "source": [
        "#@title pip install commands\n",
        "# requirements.txt\n",
        "!pip install -r requirements.txt\n",
        "\n",
        "# torch\n",
        "import os\n",
        "import torch\n",
        "os.environ['TORCH'] = torch.__version__\n",
        "print(torch.__version__)\n",
        "\n",
        "!pip install -q torch-scatter -f https://data.pyg.org/whl/torch-${TORCH}.html\n",
        "!pip install -q torch-sparse -f https://data.pyg.org/whl/torch-${TORCH}.html\n",
        "!pip install -q git+https://github.com/pyg-team/pytorch_geometric.git\n",
        "\n",
        "print(torch.__version__)"
      ]
    },
    {
      "cell_type": "markdown",
      "source": [
        "## Prepare Datasets"
      ],
      "metadata": {
        "id": "uhjsawe8f6UX"
      }
    },
    {
      "cell_type": "code",
      "execution_count": null,
      "metadata": {
        "id": "P3RSWnNGVurx"
      },
      "outputs": [],
      "source": [
        "#@title run prepare_dataset.py\n",
        "!python prepare_dataset.py"
      ]
    },
    {
      "cell_type": "markdown",
      "source": [
        "## Train"
      ],
      "metadata": {
        "id": "DqRstd_ajpu_"
      }
    },
    {
      "cell_type": "markdown",
      "source": [
        "### Node Classification"
      ],
      "metadata": {
        "id": "MaeZuNZvj-ws"
      }
    },
    {
      "cell_type": "code",
      "source": [
        "# @title train base model for node classification\n",
        "\n",
        "!python train_node.py -- checkpoint_dir \"checkpoint_node\" \\\n",
        "                      -- dataset \"FacebookPagePage\" \\\n",
        "                      -- unlearning_model \"original\""
      ],
      "metadata": {
        "id": "tOTtqioA2USR"
      },
      "execution_count": null,
      "outputs": []
    },
    {
      "cell_type": "markdown",
      "source": [
        "### Edge/Link Prediction"
      ],
      "metadata": {
        "id": "HrC_vdv8kAzb"
      }
    },
    {
      "cell_type": "code",
      "execution_count": null,
      "metadata": {
        "id": "vdgbtzBGUu6s"
      },
      "outputs": [],
      "source": [
        "# @title train base model for edge/link prediction\n",
        "\n",
        "!python train_gnn.py --lr 1e-3 \\\n",
        "                        --dataset \"FacebookPagePage\" \\\n",
        "                        --random_seed \"42\" \\\n",
        "                        --gnn \"gcn\"\n",
        "\n",
        "# !python train_gnn.py --lr 1e-3 \\\n",
        "#                         --dataset \"Cora\" \\\n",
        "#                         --random_seed \"100\" \\\n",
        "#                         --gnn \"gcn\""
      ]
    },
    {
      "cell_type": "markdown",
      "source": [
        "## Unlearn"
      ],
      "metadata": {
        "id": "GUA4WHxulW0H"
      }
    },
    {
      "cell_type": "markdown",
      "source": [
        "### GNN Delete"
      ],
      "metadata": {
        "id": "6oLUu4INkQeq"
      }
    },
    {
      "cell_type": "code",
      "execution_count": null,
      "metadata": {
        "id": "wZDjhnthja84"
      },
      "outputs": [],
      "source": [
        "# @title unlearning_model=\"gnndelete\"\n",
        "\n",
        "!python delete_gnn.py --lr 1e-3 \\\n",
        "                        --epochs 500 \\\n",
        "                        --dataset \"FacebookPagePage\" \\\n",
        "                        --random_seed 42 \\\n",
        "                        --unlearning_model \"gnndelete\" \\\n",
        "                        --gnn \"gcn\" \\\n",
        "                        --df \"out\" \\\n",
        "                        --df_size 0.005 \\\n",
        "                        --checkpoint_dir \"checkpoint_node\" \\\n",
        "                        --out_dim 4\n",
        "\n",
        "# !python delete_gnn.py --lr 1e-3 \\\n",
        "#                         --epochs 25 \\\n",
        "#                         --dataset \"Cora\" \\\n",
        "#                         --random_seed 100 \\\n",
        "#                         --unlearning_model \"gnndelete\" \\\n",
        "#                         --gnn \"gcn\" \\\n",
        "#                         --df \"in\" \\\n",
        "#                         --df_size 10"
      ]
    },
    {
      "cell_type": "markdown",
      "source": [
        "### Retrain"
      ],
      "metadata": {
        "id": "7KRNNpogkjoM"
      }
    },
    {
      "cell_type": "code",
      "execution_count": null,
      "metadata": {
        "id": "qtsf7bjx5CXt"
      },
      "outputs": [],
      "source": [
        "# @title unlearning_model=\"retrain\"\n",
        "\n",
        "!python delete_gnn.py --lr 1e-3 \\\n",
        "                        --epochs 100 \\\n",
        "                        --dataset \"FacebookPagePage\" \\\n",
        "                        --random_seed 42 \\\n",
        "                        --unlearning_model \"retrain\" \\\n",
        "                        --gnn \"gcn\" \\\n",
        "                        --df \"in\" \\\n",
        "                        --df_size 10\n",
        "\n",
        "# !python delete_gnn.py --lr 1e-3 \\\n",
        "#                         --epochs 25 \\\n",
        "#                         --dataset \"Cora\" \\\n",
        "#                         --random_seed 100 \\\n",
        "#                         --unlearning_model \"retrain\" \\\n",
        "#                         --gnn \"gcn\" \\\n",
        "#                         --df \"in\" \\\n",
        "#                         --df_size 10"
      ]
    },
    {
      "cell_type": "markdown",
      "source": [
        "### Graph Eraser"
      ],
      "metadata": {
        "id": "-iS9nki_kzgA"
      }
    },
    {
      "cell_type": "code",
      "source": [
        "# @title unlearning_model=\"graph_eraser\"\n",
        "\n",
        "!python delete_gnn.py --lr 1e-3 \\\n",
        "                        --epochs 500 \\\n",
        "                        --dataset \"FacebookPagePage\" \\\n",
        "                        --random_seed 42 \\\n",
        "                        --unlearning_model \"graph_eraser\" \\\n",
        "                        --gnn \"gcn\" \\\n",
        "                        --df \"in\" \\\n",
        "                        --df_size 10"
      ],
      "metadata": {
        "id": "mY6OJ4azQZp4"
      },
      "execution_count": null,
      "outputs": []
    },
    {
      "cell_type": "markdown",
      "source": [
        "## save zip files"
      ],
      "metadata": {
        "id": "Yyo_LY-FlMx3"
      }
    },
    {
      "cell_type": "code",
      "execution_count": null,
      "metadata": {
        "id": "zdPiUx56QyLo"
      },
      "outputs": [],
      "source": [
        "!zip -r /content/GNNDelete/checkpoint.zip /content/GNNDelete/checkpoint"
      ]
    },
    {
      "cell_type": "code",
      "execution_count": null,
      "metadata": {
        "id": "bePMk6sjY4hR"
      },
      "outputs": [],
      "source": [
        "!zip -r /content/GNNDelete/data.zip /content/GNNDelete/data"
      ]
    },
    {
      "cell_type": "code",
      "execution_count": null,
      "metadata": {
        "id": "Krv8FkzCZQzz"
      },
      "outputs": [],
      "source": [
        "from google.colab import files\n",
        "files.download(\"/content/GNNDelete/checkpoint.zip\")\n",
        "files.download(\"/content/GNNDelete/data.zip\")"
      ]
    }
  ],
  "metadata": {
    "accelerator": "GPU",
    "colab": {
      "provenance": [],
      "machine_shape": "hm",
      "gpuType": "T4",
      "toc_visible": true
    },
    "kernelspec": {
      "display_name": "Python 3",
      "name": "python3"
    },
    "language_info": {
      "name": "python"
    }
  },
  "nbformat": 4,
  "nbformat_minor": 0
}